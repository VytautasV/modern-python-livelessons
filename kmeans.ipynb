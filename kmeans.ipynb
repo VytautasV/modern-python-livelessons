{
 "cells": [
  {
   "cell_type": "code",
   "execution_count": 115,
   "metadata": {},
   "outputs": [
    {
     "name": "stdout",
     "output_type": "stream",
     "text": [
      "<string>:38: error: No overload variant of \"min\" matches argument types [typing.Sequence[builtins.tuple[builtins.int]], functools.partial[builtins.float*]]\n",
      "<string>:43: error: Argument 1 to \"map\" has incompatible type \"Callable[[Iterable[float]], float]\"; expected \"Callable[[Any], int]\"\n",
      "\n",
      "{(11.5, 41.0, 8.5): [(11, 42, 5), (12, 40, 12)],\n",
      " (17.666666666666668, 35.666666666666664, 25.0): [(10, 41, 23),\n",
      "                                                  (22, 30, 29),\n",
      "                                                  (21, 36, 23)],\n",
      " (20.0, 32.0, 4.0): [(20, 32, 4)]}\n"
     ]
    }
   ],
   "source": [
    "%%typecheck\n",
    "\n",
    "from pprint import pprint\n",
    "from math import fsum,sqrt\n",
    "from typing import Iterable, Tuple, List,Sequence,Dict,DefaultDict\n",
    "from dis import dis\n",
    "from collections import defaultdict\n",
    "from functools import partial\n",
    "from random import sample\n",
    "\n",
    "Point = Tuple[int,...]\n",
    "Centroid = Point\n",
    "\n",
    "\n",
    "points: List[Point] = [\n",
    "        (10, 41, 23),\n",
    "        (22, 30, 29),\n",
    "        (11, 42, 5),\n",
    "        (20, 32, 4),\n",
    "        (12, 40, 12),\n",
    "        (21, 36, 23),\n",
    "    ]\n",
    "\n",
    "def transpose(data: Sequence[Tuple[int,...]]):\n",
    "    return list(zip(*data))\n",
    "\n",
    "def mean(data: Iterable[float])-> float:\n",
    "    data = list(data)\n",
    "    return fsum(data)/len(data)\n",
    "    \n",
    "def dist(p:Point,q:Point, fsum=fsum, sqrt=sqrt, zip=zip)-> float:\n",
    "    return sqrt(fsum( (p-q)**2 for p,q in zip(p,q))) \n",
    "\n",
    "def assign_data(centroids: Sequence[Centroid] , data: Iterable[Point])-> Dict[Centroid, List[Point]]:\n",
    "    d:DefaultDict = defaultdict(list)\n",
    "    \n",
    "    for point in data:        \n",
    "        closest_centroid = min(centroids, key= partial( dist, point))\n",
    "        d[closest_centroid].append(point)\n",
    "    return dict(d)\n",
    "\n",
    "def compute_centroids(groups:Iterable[Sequence[Point]])->List[Centroid]:\n",
    "    return[tuple(map(mean,transpose(group))) for group in groups]\n",
    "\n",
    "def k_means(data: Iterable[Point], k:int=3, iterations:int=1000)-> List[Centroid]:\n",
    "    data = list(data)\n",
    "    centroids = sample(data, k)\n",
    "    for i in range(iterations):        \n",
    "        labeled = assign_data(centroids, data)\n",
    "        centroids = compute_centroids(labeled.values())\n",
    "    return centroids\n",
    "\n",
    "    \n",
    "    \n",
    "\n",
    "# dis(dist.__code__)\n",
    "\n",
    "groups= [\n",
    "    [(10, 41, 23),\n",
    "     (11, 42, 5),\n",
    "     (20, 32, 4),\n",
    "     (12, 40, 12)],\n",
    "    [(22, 30, 29), \n",
    "     (21, 36, 23)]\n",
    "]\n",
    "\n",
    "centroids = k_means(points)\n",
    "d = assign_data(centroids, points)\n",
    "pprint(d)"
   ]
  },
  {
   "cell_type": "code",
   "execution_count": null,
   "metadata": {},
   "outputs": [],
   "source": []
  }
 ],
 "metadata": {
  "kernelspec": {
   "display_name": "Python 3",
   "language": "python",
   "name": "python3"
  },
  "language_info": {
   "codemirror_mode": {
    "name": "ipython",
    "version": 3
   },
   "file_extension": ".py",
   "mimetype": "text/x-python",
   "name": "python",
   "nbconvert_exporter": "python",
   "pygments_lexer": "ipython3",
   "version": "3.6.3"
  }
 },
 "nbformat": 4,
 "nbformat_minor": 2
}
