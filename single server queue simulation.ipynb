{
 "cells": [
  {
   "cell_type": "code",
   "execution_count": 1,
   "metadata": {},
   "outputs": [],
   "source": [
    "from random import expovariate, gauss\n",
    "from statistics import mean, stdev,median"
   ]
  },
  {
   "cell_type": "code",
   "execution_count": 2,
   "metadata": {},
   "outputs": [],
   "source": [
    "average_arrival_interval = 5.6\n",
    "average_service_time = 5.0\n",
    "stdev_service_time = 0.5"
   ]
  },
  {
   "cell_type": "code",
   "execution_count": 3,
   "metadata": {},
   "outputs": [],
   "source": [
    "num_waiting = 0\n",
    "arrivals=[]\n",
    "starts=[]\n",
    "\n",
    "arrival = service_end = 0.0"
   ]
  },
  {
   "cell_type": "code",
   "execution_count": 4,
   "metadata": {},
   "outputs": [],
   "source": [
    "for _ in range(20000):\n",
    "    if arrival <= service_end:\n",
    "        num_waiting+=1\n",
    "        arrival += expovariate(1/average_arrival_interval)\n",
    "        arrivals.append(arrival)\n",
    "    else:\n",
    "        num_waiting-=1\n",
    "        service_start = service_end if num_waiting else arrival\n",
    "        service_end = service_start + gauss(average_service_time, stdev_service_time)\n",
    "        starts.append(service_start)\n",
    "        "
   ]
  },
  {
   "cell_type": "code",
   "execution_count": 5,
   "metadata": {},
   "outputs": [
    {
     "name": "stdout",
     "output_type": "stream",
     "text": [
      "Mean wait 27.941310303572358\n",
      "Stdev wait 28.653404232539252\n",
      "Median wait: 18.455412738980158\n",
      "Max wait: 133.46659496441862\n"
     ]
    }
   ],
   "source": [
    "waits= [start -arrival  for arrival, start in zip(arrivals,starts)]\n",
    "print('Mean wait {mean}'.format(mean=mean(waits)))\n",
    "print('Stdev wait {stdev}'.format(stdev=stdev(waits)))\n",
    "\n",
    "print('Median wait: {median}'.format(median=median(waits)))\n",
    "print('Max wait: {max}'.format(max=max(waits)))"
   ]
  },
  {
   "cell_type": "code",
   "execution_count": null,
   "metadata": {},
   "outputs": [],
   "source": []
  }
 ],
 "metadata": {
  "kernelspec": {
   "display_name": "Python 3",
   "language": "python",
   "name": "python3"
  },
  "language_info": {
   "codemirror_mode": {
    "name": "ipython",
    "version": 3
   },
   "file_extension": ".py",
   "mimetype": "text/x-python",
   "name": "python",
   "nbconvert_exporter": "python",
   "pygments_lexer": "ipython3",
   "version": "3.6.3"
  }
 },
 "nbformat": 4,
 "nbformat_minor": 2
}
