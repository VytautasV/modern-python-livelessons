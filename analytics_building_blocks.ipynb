{
 "cells": [
  {
   "cell_type": "code",
   "execution_count": 7,
   "metadata": {},
   "outputs": [],
   "source": [
    "from collections import defaultdict\n",
    "from pprint import pprint\n"
   ]
  },
  {
   "cell_type": "markdown",
   "metadata": {},
   "source": [
    "#### Defaultdict for accumulation"
   ]
  },
  {
   "cell_type": "code",
   "execution_count": 3,
   "metadata": {},
   "outputs": [],
   "source": [
    "\n",
    "\n",
    "d = defaultdict(list)\n",
    "d['raymond'].append('red')\n",
    "d['rachel'].append('blue')\n",
    "d['matthew'].append('yellow')"
   ]
  },
  {
   "cell_type": "code",
   "execution_count": 4,
   "metadata": {},
   "outputs": [
    {
     "name": "stdout",
     "output_type": "stream",
     "text": [
      "defaultdict(<class 'list'>,\n",
      "            {'matthew': ['yellow'],\n",
      "             'rachel': ['blue'],\n",
      "             'raymond': ['red']})\n"
     ]
    }
   ],
   "source": [
    "pprint(d)"
   ]
  },
  {
   "cell_type": "code",
   "execution_count": 5,
   "metadata": {},
   "outputs": [],
   "source": [
    "d['raymond'].append('mac')\n",
    "d['rachel'].append('pc')\n",
    "d['matthew'].append('vtech')"
   ]
  },
  {
   "cell_type": "markdown",
   "metadata": {},
   "source": [
    "#### Once all the data is accumulated we don't need the default dict"
   ]
  },
  {
   "cell_type": "code",
   "execution_count": 6,
   "metadata": {},
   "outputs": [
    {
     "name": "stdout",
     "output_type": "stream",
     "text": [
      "{'matthew': ['yellow', 'vtech'],\n",
      " 'rachel': ['blue', 'pc'],\n",
      " 'raymond': ['red', 'mac']}\n"
     ]
    }
   ],
   "source": [
    "pprint(dict(d))"
   ]
  },
  {
   "cell_type": "markdown",
   "metadata": {},
   "source": [
    "#### defaultdict fo reversing a one-to-many mapping"
   ]
  },
  {
   "cell_type": "code",
   "execution_count": 9,
   "metadata": {},
   "outputs": [],
   "source": [
    "e2s={\n",
    "    'one':['uno'],\n",
    "    'two':['two'],\n",
    "    'three':['tres'],\n",
    "    'trio':['tres'],\n",
    "    'free':['gratis','libre']\n",
    "}"
   ]
  },
  {
   "cell_type": "code",
   "execution_count": 10,
   "metadata": {},
   "outputs": [
    {
     "name": "stdout",
     "output_type": "stream",
     "text": [
      "defaultdict(<class 'list'>,\n",
      "            {'gratis': ['free'],\n",
      "             'libre': ['free'],\n",
      "             'tres': ['three', 'trio'],\n",
      "             'two': ['two'],\n",
      "             'uno': ['one']})\n"
     ]
    }
   ],
   "source": [
    "s2e = defaultdict(list)\n",
    "for eng, span_items in e2s.items():\n",
    "    for span in span_items:\n",
    "        s2e[span].append(eng)\n",
    "\n",
    "pprint(s2e)"
   ]
  },
  {
   "cell_type": "code",
   "execution_count": 15,
   "metadata": {},
   "outputs": [],
   "source": [
    "s2e_one_to_one = dict(one='uno',two='dos',three='tres')"
   ]
  },
  {
   "cell_type": "code",
   "execution_count": 16,
   "metadata": {},
   "outputs": [],
   "source": [
    "e2s_one_to_one = {v:k for k,v in s2e_one_to_one.items()}"
   ]
  },
  {
   "cell_type": "code",
   "execution_count": 17,
   "metadata": {},
   "outputs": [
    {
     "data": {
      "text/plain": [
       "{'dos': 'two', 'tres': 'three', 'uno': 'one'}"
      ]
     },
     "execution_count": 17,
     "metadata": {},
     "output_type": "execute_result"
    }
   ],
   "source": [
    "e2s_one_to_one"
   ]
  },
  {
   "cell_type": "markdown",
   "metadata": {},
   "source": [
    "### Glob (Global wildcard expansion)"
   ]
  },
  {
   "cell_type": "code",
   "execution_count": 19,
   "metadata": {},
   "outputs": [
    {
     "data": {
      "text/plain": [
       "['type_hinting.ipynb',\n",
       " 'single server queue simulation.ipynb',\n",
       " 'analytics_building_blocks.ipynb',\n",
       " 'README.md',\n",
       " 'kmeans.ipynb',\n",
       " 'analyzing data.ipynb',\n",
       " 'foundations.ipynb',\n",
       " 'tips and tricks.ipynb',\n",
       " 'statistical significance and p-values.ipynb']"
      ]
     },
     "execution_count": 19,
     "metadata": {},
     "output_type": "execute_result"
    }
   ],
   "source": [
    "import glob\n",
    "glob.glob('*')"
   ]
  },
  {
   "cell_type": "code",
   "execution_count": 23,
   "metadata": {},
   "outputs": [
    {
     "name": "stdout",
     "output_type": "stream",
     "text": [
      "Senate Vote #20 2016-02-10T17:11:00 - H.R. 757: North Korea Sanctions Enforcement Act of 2016\n",
      "person,state,district,vote,name,party\n",
      "300002,TN,,Yea,Sen. Lamar Alexander [R],Republican\n",
      "300011,CA,,Yea,Sen. Barbara Boxer [D],Democrat\n",
      "300018,WA,,Yea,Sen. Maria Cantwell [D],Democrat\n",
      "300019,DE,,Yea,Sen. Thomas Carper [D],Democrat\n",
      "300023,MS,,Yea,Sen. Thad Cochran [R],Republican\n",
      "300025,ME,,Yea,Sen. Susan Collins [R],Republican\n",
      "300027,TX,,Yea,Sen. John Cornyn [R],Republican\n",
      "300030,ID,,Yea,Sen. Michael Crapo [R],Republican\n",
      "300038,IL,,Not Voting,Sen. Richard Durbin [D],Democrat\n",
      "300041,WY,,Yea,Sen. Michael Enzi [R],Republican\n",
      "300043,CA,,Yea,Sen. Dianne Feinstein [D],Democrat\n",
      "300047,SC,,Not Voting,Sen. Lindsey Graham [R],Republican\n",
      "300048,IA,,Yea,Sen. Charles “Chuck” Grassley [R],Republican\n",
      "300052,UT,,Yea,Sen. Orrin Hatch [R],Republican\n",
      "300055,OK,,Yea,Sen. James “Jim” Inhofe [R],Republican\n",
      "300065,VT,,Yea,Sen. Patrick Leahy [D],Democrat\n",
      "300071,AZ,,Yea,Sen. John McCain [R],Republican\n",
      "300072,KY,,Yea,Sen. Mitch McConnell [R],Republican\n",
      "300073,MD,,Yea,Sen. Barbara Mikulski [D],Democrat\n",
      "300075,AK,,Yea,Sen. Lisa Murkowski [R],Republican\n",
      "300076,WA,,Yea,Sen. Patty Murray [D],Democrat\n",
      "300078,FL,,Yea,Sen. Bill Nelson [D],Democrat\n",
      "300081,RI,,Yea,Sen. John “Jack” Reed [D],Democrat\n",
      "300082,NV,,Yea,Sen. Harry Reid [D],Democrat\n",
      "300083,KS,,Yea,Sen. Pat Roberts [R],Republican\n",
      "300087,NY,,Yea,Sen. Charles “Chuck” Schumer [D],Democrat\n",
      "300088,AL,,Yea,Sen. Jefferson “Jeff” Sessions [R],Republican\n",
      "300089,AL,,Yea,Sen. Richard Shelby [R],Republican\n",
      "300093,MI,,Yea,Sen. Debbie Stabenow [D],Democrat\n",
      "300100,OR,,Yea,Sen. Ron Wyden [D],Democrat\n",
      "400013,WI,,Yea,Sen. Tammy Baldwin [D],Democrat\n",
      "400034,MO,,Yea,Sen. Roy Blunt [R],Republican\n",
      "400040,AR,,Yea,Sen. John Boozman [R],Republican\n",
      "400050,OH,,Yea,Sen. Sherrod Brown [D],Democrat\n",
      "400054,NC,,Yea,Sen. Richard Burr [R],Republican\n",
      "400061,WV,,Yea,Sen. Shelley Capito [R],Republican\n",
      "400064,MD,,Yea,Sen. Benjamin Cardin [D],Democrat\n",
      "400134,AZ,,Yea,Sen. Jeff Flake [R],Republican\n",
      "400194,GA,,Yea,Sen. John “Johnny” Isakson [R],Republican\n",
      "400222,IL,,Yea,Sen. Mark Kirk [R],Republican\n",
      "400253,MA,,Yea,Sen. Edward “Ed” Markey [D],Democrat\n",
      "400272,NJ,,Yea,Sen. Robert “Bob” Menéndez [D],Democrat\n",
      "400284,KS,,Yea,Sen. Jerry Moran [R],Republican\n",
      "400325,OH,,Yea,Sen. Robert “Rob” Portman [R],Republican\n",
      "400357,VT,,Not Voting,Sen. Bernard “Bernie” Sanders [I],Independent\n",
      "400408,PA,,Yea,Sen. Patrick “Pat” Toomey [R],Republican\n",
      "400413,NM,,Yea,Sen. Tom Udall [D],Democrat\n",
      "400418,LA,,Yea,Sen. David Vitter [R],Republican\n",
      "400432,MS,,Yea,Sen. Roger Wicker [R],Republican\n",
      "400546,SD,,Yea,Sen. John Thune [R],Republican\n",
      "402675,IN,,Yea,Sen. Daniel Coats [R],Republican\n",
      "412194,CT,,Yea,Sen. Christopher Murphy [D],Democrat\n",
      "412200,HI,,Yea,Sen. Mazie Hirono [D],Democrat\n",
      "412205,IN,,Yea,Sen. Joe Donnelly [D],Democrat\n",
      "412218,NV,,Yea,Sen. Dean Heller [R],Republican\n",
      "412223,NY,,Yea,Sen. Kirsten Gillibrand [D],Democrat\n",
      "412242,MN,,Yea,Sen. Amy Klobuchar [D],Democrat\n",
      "412243,MO,,Yea,Sen. Claire McCaskill [D],Democrat\n",
      "412244,MT,,Yea,Sen. Jon Tester [D],Democrat\n",
      "412246,PA,,Yea,Sen. Robert “Bob” Casey Jr. [D],Democrat\n",
      "412247,RI,,Yea,Sen. Sheldon Whitehouse [D],Democrat\n",
      "412248,TN,,Yea,Sen. Bob Corker [R],Republican\n",
      "412251,WY,,Yea,Sen. John Barrasso [R],Republican\n",
      "412269,LA,,Yea,Sen. Bill Cassidy [R],Republican\n",
      "412281,NM,,Yea,Sen. Martin Heinrich [D],Democrat\n",
      "412305,MI,,Yea,Sen. Gary Peters [D],Democrat\n",
      "412321,VA,,Yea,Sen. Mark Warner [D],Democrat\n",
      "412322,ID,,Yea,Sen. James Risch [R],Republican\n",
      "412323,NH,,Yea,Sen. Jeanne Shaheen [D],Democrat\n",
      "412325,OR,,Yea,Sen. Jeff Merkley [D],Democrat\n",
      "412330,CO,,Yea,Sen. Michael Bennet [D],Democrat\n",
      "412378,MN,,Yea,Sen. Alan “Al” Franken [D],Democrat\n",
      "412390,DE,,Yea,Sen. Chris Coons [D],Democrat\n",
      "412391,WV,,Yea,Sen. Joe Manchin III [D],Democrat\n",
      "412406,CO,,Yea,Sen. Cory Gardner [R],Republican\n",
      "412464,OK,,Yea,Sen. James Lankford [R],Republican\n",
      "412471,SC,,Yea,Sen. Tim Scott [R],Republican\n",
      "412490,CT,,Yea,Sen. Richard Blumenthal [D],Democrat\n",
      "412491,FL,,Yea,Sen. Marco Rubio [R],Republican\n",
      "412492,KY,,Yea,Sen. Rand Paul [R],Republican\n",
      "412493,NH,,Yea,Sen. Kelly Ayotte [R],Republican\n",
      "412494,ND,,Yea,Sen. John Hoeven [R],Republican\n",
      "412495,UT,,Yea,Sen. Mike Lee [R],Republican\n",
      "412496,WI,,Yea,Sen. Ron Johnson [R],Republican\n",
      "412507,HI,,Yea,Sen. Brian Schatz [D],Democrat\n",
      "412508,AR,,Yea,Sen. Tom Cotton [R],Republican\n",
      "412542,MA,,Yea,Sen. Elizabeth Warren [D],Democrat\n",
      "412545,ME,,Yea,Sen. Angus King [I],Independent\n",
      "412549,MT,,Yea,Sen. Steve Daines [R],Republican\n",
      "412554,ND,,Yea,Sen. Heidi Heitkamp [D],Democrat\n",
      "412556,NE,,Yea,Sen. Deb Fischer [R],Republican\n",
      "412573,TX,,Yea,Sen. Ted Cruz [R],Republican\n",
      "412582,VA,,Yea,Sen. Timothy Kaine [D],Democrat\n",
      "412598,NJ,,Yea,Sen. Cory Booker [D],Democrat\n",
      "412665,AK,,Not Voting,Sen. Dan Sullivan [R],Republican\n",
      "412666,GA,,Yea,Sen. David Perdue [R],Republican\n",
      "412667,IA,,Yea,Sen. Joni Ernst [R],Republican\n",
      "412668,NC,,Yea,Sen. Thom Tillis [R],Republican\n",
      "412669,SD,,Yea,Sen. Mike Rounds [R],Republican\n",
      "412671,NE,,Yea,Sen. Benjamin Sasse [R],Republican\n",
      "\n"
     ]
    }
   ],
   "source": [
    "with open('congress_votes_114-2016_s20.csv',encoding='utf-8') as f:\n",
    "    print(f.read())"
   ]
  },
  {
   "cell_type": "code",
   "execution_count": 24,
   "metadata": {},
   "outputs": [],
   "source": [
    "it = iter('abcdef')"
   ]
  },
  {
   "cell_type": "code",
   "execution_count": 25,
   "metadata": {},
   "outputs": [
    {
     "data": {
      "text/plain": [
       "'a'"
      ]
     },
     "execution_count": 25,
     "metadata": {},
     "output_type": "execute_result"
    }
   ],
   "source": [
    "next(it);"
   ]
  },
  {
   "cell_type": "code",
   "execution_count": 26,
   "metadata": {},
   "outputs": [
    {
     "data": {
      "text/plain": [
       "['b', 'c', 'd', 'e', 'f']"
      ]
     },
     "execution_count": 26,
     "metadata": {},
     "output_type": "execute_result"
    }
   ],
   "source": [
    "list(it)"
   ]
  },
  {
   "cell_type": "code",
   "execution_count": 28,
   "metadata": {},
   "outputs": [
    {
     "name": "stdout",
     "output_type": "stream",
     "text": [
      "['Senate Vote #20 2016-02-10T17:11:00 - H.R. 757: North Korea Sanctions Enforcement Act of 2016']\n",
      "['person', 'state', 'district', 'vote', 'name', 'party']\n",
      "['300002', 'TN', '', 'Yea', 'Sen. Lamar Alexander [R]', 'Republican']\n",
      "['300011', 'CA', '', 'Yea', 'Sen. Barbara Boxer [D]', 'Democrat']\n",
      "['300018', 'WA', '', 'Yea', 'Sen. Maria Cantwell [D]', 'Democrat']\n",
      "['300019', 'DE', '', 'Yea', 'Sen. Thomas Carper [D]', 'Democrat']\n",
      "['300023', 'MS', '', 'Yea', 'Sen. Thad Cochran [R]', 'Republican']\n",
      "['300025', 'ME', '', 'Yea', 'Sen. Susan Collins [R]', 'Republican']\n",
      "['300027', 'TX', '', 'Yea', 'Sen. John Cornyn [R]', 'Republican']\n",
      "['300030', 'ID', '', 'Yea', 'Sen. Michael Crapo [R]', 'Republican']\n",
      "['300038', 'IL', '', 'Not Voting', 'Sen. Richard Durbin [D]', 'Democrat']\n",
      "['300041', 'WY', '', 'Yea', 'Sen. Michael Enzi [R]', 'Republican']\n",
      "['300043', 'CA', '', 'Yea', 'Sen. Dianne Feinstein [D]', 'Democrat']\n",
      "['300047', 'SC', '', 'Not Voting', 'Sen. Lindsey Graham [R]', 'Republican']\n",
      "['300048', 'IA', '', 'Yea', 'Sen. Charles “Chuck” Grassley [R]', 'Republican']\n",
      "['300052', 'UT', '', 'Yea', 'Sen. Orrin Hatch [R]', 'Republican']\n",
      "['300055', 'OK', '', 'Yea', 'Sen. James “Jim” Inhofe [R]', 'Republican']\n",
      "['300065', 'VT', '', 'Yea', 'Sen. Patrick Leahy [D]', 'Democrat']\n",
      "['300071', 'AZ', '', 'Yea', 'Sen. John McCain [R]', 'Republican']\n",
      "['300072', 'KY', '', 'Yea', 'Sen. Mitch McConnell [R]', 'Republican']\n",
      "['300073', 'MD', '', 'Yea', 'Sen. Barbara Mikulski [D]', 'Democrat']\n",
      "['300075', 'AK', '', 'Yea', 'Sen. Lisa Murkowski [R]', 'Republican']\n",
      "['300076', 'WA', '', 'Yea', 'Sen. Patty Murray [D]', 'Democrat']\n",
      "['300078', 'FL', '', 'Yea', 'Sen. Bill Nelson [D]', 'Democrat']\n",
      "['300081', 'RI', '', 'Yea', 'Sen. John “Jack” Reed [D]', 'Democrat']\n",
      "['300082', 'NV', '', 'Yea', 'Sen. Harry Reid [D]', 'Democrat']\n",
      "['300083', 'KS', '', 'Yea', 'Sen. Pat Roberts [R]', 'Republican']\n",
      "['300087', 'NY', '', 'Yea', 'Sen. Charles “Chuck” Schumer [D]', 'Democrat']\n",
      "['300088', 'AL', '', 'Yea', 'Sen. Jefferson “Jeff” Sessions [R]', 'Republican']\n",
      "['300089', 'AL', '', 'Yea', 'Sen. Richard Shelby [R]', 'Republican']\n",
      "['300093', 'MI', '', 'Yea', 'Sen. Debbie Stabenow [D]', 'Democrat']\n",
      "['300100', 'OR', '', 'Yea', 'Sen. Ron Wyden [D]', 'Democrat']\n",
      "['400013', 'WI', '', 'Yea', 'Sen. Tammy Baldwin [D]', 'Democrat']\n",
      "['400034', 'MO', '', 'Yea', 'Sen. Roy Blunt [R]', 'Republican']\n",
      "['400040', 'AR', '', 'Yea', 'Sen. John Boozman [R]', 'Republican']\n",
      "['400050', 'OH', '', 'Yea', 'Sen. Sherrod Brown [D]', 'Democrat']\n",
      "['400054', 'NC', '', 'Yea', 'Sen. Richard Burr [R]', 'Republican']\n",
      "['400061', 'WV', '', 'Yea', 'Sen. Shelley Capito [R]', 'Republican']\n",
      "['400064', 'MD', '', 'Yea', 'Sen. Benjamin Cardin [D]', 'Democrat']\n",
      "['400134', 'AZ', '', 'Yea', 'Sen. Jeff Flake [R]', 'Republican']\n",
      "['400194', 'GA', '', 'Yea', 'Sen. John “Johnny” Isakson [R]', 'Republican']\n",
      "['400222', 'IL', '', 'Yea', 'Sen. Mark Kirk [R]', 'Republican']\n",
      "['400253', 'MA', '', 'Yea', 'Sen. Edward “Ed” Markey [D]', 'Democrat']\n",
      "['400272', 'NJ', '', 'Yea', 'Sen. Robert “Bob” Menéndez [D]', 'Democrat']\n",
      "['400284', 'KS', '', 'Yea', 'Sen. Jerry Moran [R]', 'Republican']\n",
      "['400325', 'OH', '', 'Yea', 'Sen. Robert “Rob” Portman [R]', 'Republican']\n",
      "['400357', 'VT', '', 'Not Voting', 'Sen. Bernard “Bernie” Sanders [I]', 'Independent']\n",
      "['400408', 'PA', '', 'Yea', 'Sen. Patrick “Pat” Toomey [R]', 'Republican']\n",
      "['400413', 'NM', '', 'Yea', 'Sen. Tom Udall [D]', 'Democrat']\n",
      "['400418', 'LA', '', 'Yea', 'Sen. David Vitter [R]', 'Republican']\n",
      "['400432', 'MS', '', 'Yea', 'Sen. Roger Wicker [R]', 'Republican']\n",
      "['400546', 'SD', '', 'Yea', 'Sen. John Thune [R]', 'Republican']\n",
      "['402675', 'IN', '', 'Yea', 'Sen. Daniel Coats [R]', 'Republican']\n",
      "['412194', 'CT', '', 'Yea', 'Sen. Christopher Murphy [D]', 'Democrat']\n",
      "['412200', 'HI', '', 'Yea', 'Sen. Mazie Hirono [D]', 'Democrat']\n",
      "['412205', 'IN', '', 'Yea', 'Sen. Joe Donnelly [D]', 'Democrat']\n",
      "['412218', 'NV', '', 'Yea', 'Sen. Dean Heller [R]', 'Republican']\n",
      "['412223', 'NY', '', 'Yea', 'Sen. Kirsten Gillibrand [D]', 'Democrat']\n",
      "['412242', 'MN', '', 'Yea', 'Sen. Amy Klobuchar [D]', 'Democrat']\n",
      "['412243', 'MO', '', 'Yea', 'Sen. Claire McCaskill [D]', 'Democrat']\n",
      "['412244', 'MT', '', 'Yea', 'Sen. Jon Tester [D]', 'Democrat']\n",
      "['412246', 'PA', '', 'Yea', 'Sen. Robert “Bob” Casey Jr. [D]', 'Democrat']\n",
      "['412247', 'RI', '', 'Yea', 'Sen. Sheldon Whitehouse [D]', 'Democrat']\n",
      "['412248', 'TN', '', 'Yea', 'Sen. Bob Corker [R]', 'Republican']\n",
      "['412251', 'WY', '', 'Yea', 'Sen. John Barrasso [R]', 'Republican']\n",
      "['412269', 'LA', '', 'Yea', 'Sen. Bill Cassidy [R]', 'Republican']\n",
      "['412281', 'NM', '', 'Yea', 'Sen. Martin Heinrich [D]', 'Democrat']\n",
      "['412305', 'MI', '', 'Yea', 'Sen. Gary Peters [D]', 'Democrat']\n",
      "['412321', 'VA', '', 'Yea', 'Sen. Mark Warner [D]', 'Democrat']\n",
      "['412322', 'ID', '', 'Yea', 'Sen. James Risch [R]', 'Republican']\n",
      "['412323', 'NH', '', 'Yea', 'Sen. Jeanne Shaheen [D]', 'Democrat']\n",
      "['412325', 'OR', '', 'Yea', 'Sen. Jeff Merkley [D]', 'Democrat']\n",
      "['412330', 'CO', '', 'Yea', 'Sen. Michael Bennet [D]', 'Democrat']\n",
      "['412378', 'MN', '', 'Yea', 'Sen. Alan “Al” Franken [D]', 'Democrat']\n",
      "['412390', 'DE', '', 'Yea', 'Sen. Chris Coons [D]', 'Democrat']\n",
      "['412391', 'WV', '', 'Yea', 'Sen. Joe Manchin III [D]', 'Democrat']\n",
      "['412406', 'CO', '', 'Yea', 'Sen. Cory Gardner [R]', 'Republican']\n",
      "['412464', 'OK', '', 'Yea', 'Sen. James Lankford [R]', 'Republican']\n",
      "['412471', 'SC', '', 'Yea', 'Sen. Tim Scott [R]', 'Republican']\n",
      "['412490', 'CT', '', 'Yea', 'Sen. Richard Blumenthal [D]', 'Democrat']\n",
      "['412491', 'FL', '', 'Yea', 'Sen. Marco Rubio [R]', 'Republican']\n",
      "['412492', 'KY', '', 'Yea', 'Sen. Rand Paul [R]', 'Republican']\n",
      "['412493', 'NH', '', 'Yea', 'Sen. Kelly Ayotte [R]', 'Republican']\n",
      "['412494', 'ND', '', 'Yea', 'Sen. John Hoeven [R]', 'Republican']\n",
      "['412495', 'UT', '', 'Yea', 'Sen. Mike Lee [R]', 'Republican']\n",
      "['412496', 'WI', '', 'Yea', 'Sen. Ron Johnson [R]', 'Republican']\n",
      "['412507', 'HI', '', 'Yea', 'Sen. Brian Schatz [D]', 'Democrat']\n",
      "['412508', 'AR', '', 'Yea', 'Sen. Tom Cotton [R]', 'Republican']\n",
      "['412542', 'MA', '', 'Yea', 'Sen. Elizabeth Warren [D]', 'Democrat']\n",
      "['412545', 'ME', '', 'Yea', 'Sen. Angus King [I]', 'Independent']\n",
      "['412549', 'MT', '', 'Yea', 'Sen. Steve Daines [R]', 'Republican']\n",
      "['412554', 'ND', '', 'Yea', 'Sen. Heidi Heitkamp [D]', 'Democrat']\n",
      "['412556', 'NE', '', 'Yea', 'Sen. Deb Fischer [R]', 'Republican']\n",
      "['412573', 'TX', '', 'Yea', 'Sen. Ted Cruz [R]', 'Republican']\n",
      "['412582', 'VA', '', 'Yea', 'Sen. Timothy Kaine [D]', 'Democrat']\n",
      "['412598', 'NJ', '', 'Yea', 'Sen. Cory Booker [D]', 'Democrat']\n",
      "['412665', 'AK', '', 'Not Voting', 'Sen. Dan Sullivan [R]', 'Republican']\n",
      "['412666', 'GA', '', 'Yea', 'Sen. David Perdue [R]', 'Republican']\n",
      "['412667', 'IA', '', 'Yea', 'Sen. Joni Ernst [R]', 'Republican']\n",
      "['412668', 'NC', '', 'Yea', 'Sen. Thom Tillis [R]', 'Republican']\n",
      "['412669', 'SD', '', 'Yea', 'Sen. Mike Rounds [R]', 'Republican']\n",
      "['412671', 'NE', '', 'Yea', 'Sen. Benjamin Sasse [R]', 'Republican']\n"
     ]
    }
   ],
   "source": [
    "import csv\n",
    "with open('congress_votes_114-2016_s20.csv',encoding='utf-8') as f:\n",
    "    for row in csv.reader(f):\n",
    "        print(row)"
   ]
  },
  {
   "cell_type": "code",
   "execution_count": 30,
   "metadata": {},
   "outputs": [
    {
     "name": "stdout",
     "output_type": "stream",
     "text": [
      "1 a\n",
      "2 b\n",
      "3 c\n"
     ]
    }
   ],
   "source": [
    "for index, elem in enumerate('a b c'.split(), start=1):\n",
    "    print(index,elem)"
   ]
  },
  {
   "cell_type": "code",
   "execution_count": 34,
   "metadata": {},
   "outputs": [
    {
     "data": {
      "text/plain": [
       "[10, 9, 8, 7, 6, 5, 4, 3, 2, 1, 0]"
      ]
     },
     "execution_count": 34,
     "metadata": {},
     "output_type": "execute_result"
    }
   ],
   "source": [
    "list(range(10,-1,-1))"
   ]
  },
  {
   "cell_type": "code",
   "execution_count": 35,
   "metadata": {},
   "outputs": [
    {
     "name": "stdout",
     "output_type": "stream",
     "text": [
      "2 blue\n",
      "1 green\n",
      "0 red\n"
     ]
    }
   ],
   "source": [
    "colors='red green blue'.split()\n",
    "for i in range(len(colors)-1,-1,-1):\n",
    "    print(i, colors[i])"
   ]
  },
  {
   "cell_type": "code",
   "execution_count": 36,
   "metadata": {},
   "outputs": [
    {
     "name": "stdout",
     "output_type": "stream",
     "text": [
      "0 blue\n",
      "1 green\n",
      "2 red\n"
     ]
    }
   ],
   "source": [
    " for i,c in enumerate(reversed(colors)):\n",
    "        print(i,c)"
   ]
  },
  {
   "cell_type": "code",
   "execution_count": 42,
   "metadata": {},
   "outputs": [
    {
     "data": {
      "text/plain": [
       "['black', 'black', 'black', 'green', 'red']"
      ]
     },
     "execution_count": 42,
     "metadata": {},
     "output_type": "execute_result"
    }
   ],
   "source": [
    "from collections import Counter\n",
    "sorted(Counter('black red green black black'.split()).elements())"
   ]
  },
  {
   "cell_type": "code",
   "execution_count": 43,
   "metadata": {},
   "outputs": [],
   "source": [
    "assert 8 == 5 + 3"
   ]
  },
  {
   "cell_type": "code",
   "execution_count": 44,
   "metadata": {},
   "outputs": [
    {
     "ename": "AssertionError",
     "evalue": "",
     "output_type": "error",
     "traceback": [
      "\u001b[0;31m---------------------------------------------------------------------------\u001b[0m",
      "\u001b[0;31mAssertionError\u001b[0m                            Traceback (most recent call last)",
      "\u001b[0;32m<ipython-input-44-739ddcca44fb>\u001b[0m in \u001b[0;36m<module>\u001b[0;34m()\u001b[0m\n\u001b[0;32m----> 1\u001b[0;31m \u001b[0;32massert\u001b[0m \u001b[0;36m8\u001b[0m \u001b[0;34m==\u001b[0m \u001b[0;36m5\u001b[0m \u001b[0;34m+\u001b[0m \u001b[0;36m4\u001b[0m\u001b[0;34m\u001b[0m\u001b[0m\n\u001b[0m",
      "\u001b[0;31mAssertionError\u001b[0m: "
     ]
    }
   ],
   "source": [
    "assert 8 == 5 + 4"
   ]
  },
  {
   "cell_type": "code",
   "execution_count": null,
   "metadata": {},
   "outputs": [],
   "source": []
  }
 ],
 "metadata": {
  "kernelspec": {
   "display_name": "Python 3",
   "language": "python",
   "name": "python3"
  },
  "language_info": {
   "codemirror_mode": {
    "name": "ipython",
    "version": 3
   },
   "file_extension": ".py",
   "mimetype": "text/x-python",
   "name": "python",
   "nbconvert_exporter": "python",
   "pygments_lexer": "ipython3",
   "version": "3.6.3"
  }
 },
 "nbformat": 4,
 "nbformat_minor": 2
}
